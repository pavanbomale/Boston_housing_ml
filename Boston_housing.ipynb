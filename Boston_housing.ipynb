{
 "cells": [
  {
   "cell_type": "code",
   "execution_count": 1,
   "id": "a73f41da",
   "metadata": {},
   "outputs": [],
   "source": [
    "import pandas as pd\n",
    "import numpy as np\n",
    "import matplotlib.pyplot as plt\n",
    "from sklearn.model_selection import StratifiedShuffleSplit"
   ]
  },
  {
   "cell_type": "code",
   "execution_count": 2,
   "id": "b5d7f0b4",
   "metadata": {},
   "outputs": [],
   "source": [
    "housing = pd.read_csv('data.csv')"
   ]
  },
  {
   "cell_type": "code",
   "execution_count": 3,
   "id": "b73bf30e",
   "metadata": {},
   "outputs": [
    {
     "data": {
      "text/html": [
       "<div>\n",
       "<style scoped>\n",
       "    .dataframe tbody tr th:only-of-type {\n",
       "        vertical-align: middle;\n",
       "    }\n",
       "\n",
       "    .dataframe tbody tr th {\n",
       "        vertical-align: top;\n",
       "    }\n",
       "\n",
       "    .dataframe thead th {\n",
       "        text-align: right;\n",
       "    }\n",
       "</style>\n",
       "<table border=\"1\" class=\"dataframe\">\n",
       "  <thead>\n",
       "    <tr style=\"text-align: right;\">\n",
       "      <th></th>\n",
       "      <th>CRIM</th>\n",
       "      <th>ZN</th>\n",
       "      <th>INDUS</th>\n",
       "      <th>CHAS</th>\n",
       "      <th>NOX</th>\n",
       "      <th>RM</th>\n",
       "      <th>AGE</th>\n",
       "      <th>DIS</th>\n",
       "      <th>RAD</th>\n",
       "      <th>TAX</th>\n",
       "      <th>PTRATIO</th>\n",
       "      <th>B</th>\n",
       "      <th>LSTAT</th>\n",
       "      <th>MEDV</th>\n",
       "    </tr>\n",
       "  </thead>\n",
       "  <tbody>\n",
       "    <tr>\n",
       "      <th>0</th>\n",
       "      <td>0.02731</td>\n",
       "      <td>0.0</td>\n",
       "      <td>7.07</td>\n",
       "      <td>0</td>\n",
       "      <td>0.469</td>\n",
       "      <td>6.421</td>\n",
       "      <td>78.9</td>\n",
       "      <td>4.9671</td>\n",
       "      <td>2</td>\n",
       "      <td>242</td>\n",
       "      <td>17.8</td>\n",
       "      <td>396.90</td>\n",
       "      <td>9.14</td>\n",
       "      <td>21.6</td>\n",
       "    </tr>\n",
       "    <tr>\n",
       "      <th>1</th>\n",
       "      <td>0.02729</td>\n",
       "      <td>0.0</td>\n",
       "      <td>7.07</td>\n",
       "      <td>0</td>\n",
       "      <td>0.469</td>\n",
       "      <td>7.185</td>\n",
       "      <td>61.1</td>\n",
       "      <td>4.9671</td>\n",
       "      <td>2</td>\n",
       "      <td>242</td>\n",
       "      <td>17.8</td>\n",
       "      <td>392.83</td>\n",
       "      <td>4.03</td>\n",
       "      <td>34.7</td>\n",
       "    </tr>\n",
       "    <tr>\n",
       "      <th>2</th>\n",
       "      <td>0.03237</td>\n",
       "      <td>0.0</td>\n",
       "      <td>2.18</td>\n",
       "      <td>0</td>\n",
       "      <td>0.458</td>\n",
       "      <td>6.998</td>\n",
       "      <td>45.8</td>\n",
       "      <td>6.0622</td>\n",
       "      <td>3</td>\n",
       "      <td>222</td>\n",
       "      <td>18.7</td>\n",
       "      <td>394.63</td>\n",
       "      <td>2.94</td>\n",
       "      <td>33.4</td>\n",
       "    </tr>\n",
       "    <tr>\n",
       "      <th>3</th>\n",
       "      <td>0.06905</td>\n",
       "      <td>0.0</td>\n",
       "      <td>2.18</td>\n",
       "      <td>0</td>\n",
       "      <td>0.458</td>\n",
       "      <td>7.147</td>\n",
       "      <td>54.2</td>\n",
       "      <td>6.0622</td>\n",
       "      <td>3</td>\n",
       "      <td>222</td>\n",
       "      <td>18.7</td>\n",
       "      <td>396.90</td>\n",
       "      <td>5.33</td>\n",
       "      <td>36.2</td>\n",
       "    </tr>\n",
       "    <tr>\n",
       "      <th>4</th>\n",
       "      <td>0.02985</td>\n",
       "      <td>0.0</td>\n",
       "      <td>2.18</td>\n",
       "      <td>0</td>\n",
       "      <td>0.458</td>\n",
       "      <td>6.430</td>\n",
       "      <td>58.7</td>\n",
       "      <td>6.0622</td>\n",
       "      <td>3</td>\n",
       "      <td>222</td>\n",
       "      <td>18.7</td>\n",
       "      <td>394.12</td>\n",
       "      <td>5.21</td>\n",
       "      <td>28.7</td>\n",
       "    </tr>\n",
       "  </tbody>\n",
       "</table>\n",
       "</div>"
      ],
      "text/plain": [
       "      CRIM   ZN  INDUS  CHAS    NOX     RM   AGE     DIS  RAD  TAX  PTRATIO  \\\n",
       "0  0.02731  0.0   7.07     0  0.469  6.421  78.9  4.9671    2  242     17.8   \n",
       "1  0.02729  0.0   7.07     0  0.469  7.185  61.1  4.9671    2  242     17.8   \n",
       "2  0.03237  0.0   2.18     0  0.458  6.998  45.8  6.0622    3  222     18.7   \n",
       "3  0.06905  0.0   2.18     0  0.458  7.147  54.2  6.0622    3  222     18.7   \n",
       "4  0.02985  0.0   2.18     0  0.458  6.430  58.7  6.0622    3  222     18.7   \n",
       "\n",
       "        B  LSTAT  MEDV  \n",
       "0  396.90   9.14  21.6  \n",
       "1  392.83   4.03  34.7  \n",
       "2  394.63   2.94  33.4  \n",
       "3  396.90   5.33  36.2  \n",
       "4  394.12   5.21  28.7  "
      ]
     },
     "execution_count": 3,
     "metadata": {},
     "output_type": "execute_result"
    }
   ],
   "source": [
    "housing.head()"
   ]
  },
  {
   "cell_type": "code",
   "execution_count": 4,
   "id": "86aeb190",
   "metadata": {},
   "outputs": [
    {
     "data": {
      "text/plain": [
       "(506, 14)"
      ]
     },
     "execution_count": 4,
     "metadata": {},
     "output_type": "execute_result"
    }
   ],
   "source": [
    "housing.shape"
   ]
  },
  {
   "cell_type": "code",
   "execution_count": 5,
   "id": "d7d0e64f",
   "metadata": {},
   "outputs": [
    {
     "data": {
      "text/plain": [
       "CRIM       0\n",
       "ZN         0\n",
       "INDUS      0\n",
       "CHAS       0\n",
       "NOX        0\n",
       "RM         0\n",
       "AGE        0\n",
       "DIS        0\n",
       "RAD        0\n",
       "TAX        0\n",
       "PTRATIO    0\n",
       "B          0\n",
       "LSTAT      0\n",
       "MEDV       0\n",
       "dtype: int64"
      ]
     },
     "execution_count": 5,
     "metadata": {},
     "output_type": "execute_result"
    }
   ],
   "source": [
    "housing.isna().sum()"
   ]
  },
  {
   "cell_type": "code",
   "execution_count": 6,
   "id": "76a4f808",
   "metadata": {},
   "outputs": [
    {
     "data": {
      "text/plain": [
       "0    471\n",
       "1     35\n",
       "Name: CHAS, dtype: int64"
      ]
     },
     "execution_count": 6,
     "metadata": {},
     "output_type": "execute_result"
    }
   ],
   "source": [
    "housing.CHAS.value_counts()"
   ]
  },
  {
   "cell_type": "code",
   "execution_count": 7,
   "id": "f263329d",
   "metadata": {},
   "outputs": [],
   "source": [
    "# housing.hist(figsize=(20,15))"
   ]
  },
  {
   "cell_type": "markdown",
   "id": "369a50e5",
   "metadata": {},
   "source": [
    "# StratifiedShuffleSplit "
   ]
  },
  {
   "cell_type": "markdown",
   "id": "76918971",
   "metadata": {},
   "source": [
    "StratifiedShuffleSplit method returns training and testing sets that have same proportions of class labels as the input dataset"
   ]
  },
  {
   "cell_type": "code",
   "execution_count": 8,
   "id": "60dfb072",
   "metadata": {},
   "outputs": [],
   "source": [
    "split = StratifiedShuffleSplit(test_size=0.2)\n",
    "for train_index, test_index in split.split(housing, housing.CHAS):\n",
    "    strat_train_set = housing.loc[train_index]\n",
    "    strat_test_set = housing.loc[test_index]"
   ]
  },
  {
   "cell_type": "code",
   "execution_count": 9,
   "id": "1311e5f9",
   "metadata": {},
   "outputs": [
    {
     "name": "stdout",
     "output_type": "stream",
     "text": [
      "0    95\n",
      "1     7\n",
      "Name: CHAS, dtype: int64\n",
      "0    376\n",
      "1     28\n",
      "Name: CHAS, dtype: int64\n"
     ]
    }
   ],
   "source": [
    "print(strat_test_set.CHAS.value_counts())\n",
    "print(strat_train_set.CHAS.value_counts())"
   ]
  },
  {
   "cell_type": "markdown",
   "id": "aae523a3",
   "metadata": {},
   "source": [
    "# Corelations in data"
   ]
  },
  {
   "cell_type": "markdown",
   "id": "0e8303ac",
   "metadata": {},
   "source": [
    "corr() returns the matrix that shows the relationship between the attributes of the data"
   ]
  },
  {
   "cell_type": "code",
   "execution_count": 10,
   "id": "22b97930",
   "metadata": {},
   "outputs": [
    {
     "data": {
      "text/plain": [
       "LSTAT     -0.735415\n",
       "PTRATIO   -0.514007\n",
       "INDUS     -0.486211\n",
       "TAX       -0.471979\n",
       "NOX       -0.410658\n",
       "RAD       -0.380789\n",
       "CRIM      -0.368532\n",
       "AGE       -0.363453\n",
       "CHAS       0.161472\n",
       "DIS        0.223116\n",
       "B          0.325838\n",
       "ZN         0.350817\n",
       "RM         0.710751\n",
       "MEDV       1.000000\n",
       "Name: MEDV, dtype: float64"
      ]
     },
     "execution_count": 10,
     "metadata": {},
     "output_type": "execute_result"
    }
   ],
   "source": [
    "corr_matrix = strat_train_set.corr()\n",
    "# corr_matrix\n",
    "corr_matrix.MEDV.sort_values()"
   ]
  },
  {
   "cell_type": "code",
   "execution_count": 11,
   "id": "9193896d",
   "metadata": {},
   "outputs": [
    {
     "data": {
      "text/plain": [
       "array([2.4751e-01, 0.0000e+00, 9.6900e+00, 0.0000e+00, 5.3800e-01,\n",
       "       6.1890e+00, 7.7700e+01, 3.1423e+00, 5.0000e+00, 3.3000e+02,\n",
       "       1.9000e+01, 3.9182e+02, 1.1170e+01, 2.1050e+01])"
      ]
     },
     "execution_count": 11,
     "metadata": {},
     "output_type": "execute_result"
    }
   ],
   "source": [
    "from sklearn.impute import SimpleImputer # imputer is used to handle missing values\n",
    "imputer = SimpleImputer(strategy='median') # returns median values for all the attributes\n",
    "# imputer.fit(strat_train_set)\n",
    "strat_train_set_transformed =imputer.fit_transform(strat_train_set) #fits and also transforms the data at the same time\n",
    "imputer.statistics_ \n",
    "# strat_train_set_transformed"
   ]
  },
  {
   "cell_type": "markdown",
   "id": "542807cf",
   "metadata": {},
   "source": [
    "# selecting a model and training the model"
   ]
  },
  {
   "cell_type": "code",
   "execution_count": 12,
   "id": "9ba532c3",
   "metadata": {},
   "outputs": [],
   "source": [
    "from sklearn.linear_model import LinearRegression\n",
    "from sklearn.tree import DecisionTreeRegressor\n",
    "from sklearn.ensemble import RandomForestRegressor\n",
    "# model = LinearRegression()\n",
    "# model = DecisionTreeRegressor()\n",
    "model = RandomForestRegressor()"
   ]
  },
  {
   "cell_type": "code",
   "execution_count": 13,
   "id": "741ad21d",
   "metadata": {},
   "outputs": [
    {
     "data": {
      "text/plain": [
       "(404, 13)"
      ]
     },
     "execution_count": 13,
     "metadata": {},
     "output_type": "execute_result"
    }
   ],
   "source": [
    "X = strat_train_set_transformed[:, 0:13]\n",
    "X.shape"
   ]
  },
  {
   "cell_type": "code",
   "execution_count": 14,
   "id": "4d5876d9",
   "metadata": {},
   "outputs": [
    {
     "data": {
      "text/plain": [
       "(404,)"
      ]
     },
     "execution_count": 14,
     "metadata": {},
     "output_type": "execute_result"
    }
   ],
   "source": [
    "y = strat_train_set_transformed[:, -1]\n",
    "y.shape"
   ]
  },
  {
   "cell_type": "code",
   "execution_count": 15,
   "id": "84e1bfda",
   "metadata": {},
   "outputs": [
    {
     "data": {
      "text/plain": [
       "RandomForestRegressor()"
      ]
     },
     "execution_count": 15,
     "metadata": {},
     "output_type": "execute_result"
    }
   ],
   "source": [
    "model.fit(X,y)"
   ]
  },
  {
   "cell_type": "code",
   "execution_count": 16,
   "id": "b9160c2f",
   "metadata": {},
   "outputs": [],
   "source": [
    "strat_test_set_tran = imputer.fit_transform(strat_test_set)"
   ]
  },
  {
   "cell_type": "code",
   "execution_count": 17,
   "id": "5460f58f",
   "metadata": {},
   "outputs": [],
   "source": [
    "test_x = strat_test_set_tran[:, 0:13]\n",
    "test_y = strat_test_set_tran[:, -1]"
   ]
  },
  {
   "cell_type": "code",
   "execution_count": 18,
   "id": "3bf61461",
   "metadata": {},
   "outputs": [
    {
     "data": {
      "text/plain": [
       "array([15.349,  7.677, 20.467, 27.08 , 23.142,  8.977, 14.464, 20.016,\n",
       "       24.012, 17.3  , 30.894, 10.338, 20.796, 19.162, 24.167, 25.472,\n",
       "       15.05 , 13.277, 14.171, 20.   , 13.   , 25.536, 19.6  , 33.603,\n",
       "       20.825, 11.078, 10.107, 26.328, 22.111, 26.475, 10.197,  9.356,\n",
       "       23.48 , 14.793, 31.842, 22.57 , 34.036, 16.323, 15.397, 14.369,\n",
       "       27.863, 17.751, 24.621, 11.469, 14.255, 11.985, 21.295, 16.893,\n",
       "       20.769, 32.241, 22.81 , 31.38 , 28.388, 21.07 , 22.049, 33.327,\n",
       "       14.603, 21.083, 26.833, 22.705, 47.112, 27.706, 30.597, 22.818,\n",
       "       21.172, 18.06 , 20.416, 33.244, 38.35 , 14.271, 23.44 , 20.153,\n",
       "       17.982, 14.59 , 20.211, 34.377, 19.329, 20.65 , 28.452, 26.554,\n",
       "       18.213, 21.953, 23.994, 21.185, 33.32 , 12.03 , 24.117, 11.937,\n",
       "       39.422, 22.618, 19.713, 17.761, 20.269, 26.045, 21.926, 29.733,\n",
       "       28.395, 13.855, 20.673, 13.315,  9.946, 12.001])"
      ]
     },
     "execution_count": 18,
     "metadata": {},
     "output_type": "execute_result"
    }
   ],
   "source": [
    "predictions = model.predict(test_x)\n",
    "predictions"
   ]
  },
  {
   "cell_type": "markdown",
   "id": "cbe49478",
   "metadata": {},
   "source": [
    "# Evaluating the model"
   ]
  },
  {
   "cell_type": "code",
   "execution_count": 19,
   "id": "c60ee8c3",
   "metadata": {},
   "outputs": [
    {
     "data": {
      "text/plain": [
       "10.295950999999981"
      ]
     },
     "execution_count": 19,
     "metadata": {},
     "output_type": "execute_result"
    }
   ],
   "source": [
    "from sklearn.metrics import mean_squared_error\n",
    "mse = mean_squared_error(test_y, predictions)\n",
    "mse"
   ]
  },
  {
   "cell_type": "code",
   "execution_count": 20,
   "id": "904f5edd",
   "metadata": {},
   "outputs": [],
   "source": [
    "from sklearn.model_selection import cross_val_score\n",
    "nmse = cross_val_score(model, test_x, test_y, scoring='neg_mean_squared_error')\n",
    "root_nmse = np.sqrt(-nmse)"
   ]
  },
  {
   "cell_type": "code",
   "execution_count": 21,
   "id": "c6bf9bda",
   "metadata": {},
   "outputs": [
    {
     "data": {
      "text/plain": [
       "4.603463858122303"
      ]
     },
     "execution_count": 21,
     "metadata": {},
     "output_type": "execute_result"
    }
   ],
   "source": [
    "root_nmse.mean()"
   ]
  },
  {
   "cell_type": "markdown",
   "id": "4a5387b9",
   "metadata": {},
   "source": [
    "# Saving the model"
   ]
  },
  {
   "cell_type": "code",
   "execution_count": 22,
   "id": "6bf602a9",
   "metadata": {},
   "outputs": [
    {
     "data": {
      "text/plain": [
       "['boston.joblib']"
      ]
     },
     "execution_count": 22,
     "metadata": {},
     "output_type": "execute_result"
    }
   ],
   "source": [
    "from joblib import dump, load\n",
    "dump(model, 'boston.joblib')"
   ]
  },
  {
   "cell_type": "code",
   "execution_count": null,
   "id": "1b8bce79",
   "metadata": {},
   "outputs": [],
   "source": []
  }
 ],
 "metadata": {
  "kernelspec": {
   "display_name": "Python 3 (ipykernel)",
   "language": "python",
   "name": "python3"
  },
  "language_info": {
   "codemirror_mode": {
    "name": "ipython",
    "version": 3
   },
   "file_extension": ".py",
   "mimetype": "text/x-python",
   "name": "python",
   "nbconvert_exporter": "python",
   "pygments_lexer": "ipython3",
   "version": "3.9.7"
  }
 },
 "nbformat": 4,
 "nbformat_minor": 5
}
